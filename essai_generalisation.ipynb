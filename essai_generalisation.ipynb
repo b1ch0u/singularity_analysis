{
 "cells": [
  {
   "cell_type": "code",
   "execution_count": 1,
   "metadata": {},
   "outputs": [],
   "source": [
    "from ore_algebra import *"
   ]
  },
  {
   "cell_type": "code",
   "execution_count": 2,
   "metadata": {},
   "outputs": [],
   "source": [
    "# Create the differential algebra to encode linear differential equation\n",
    "Pols.<z> = PolynomialRing(QQ)\n",
    "Diff.<Dz> = OreAlgebra(Pols)"
   ]
  },
  {
   "cell_type": "code",
   "execution_count": 3,
   "metadata": {},
   "outputs": [
    {
     "name": "stdout",
     "output_type": "stream",
     "text": [
      "(4*z^2 - z)*Dz^2 + (14*z - 2)*Dz + 6\n"
     ]
    }
   ],
   "source": [
    "diffWalk = (4*z^2 - z)*Dz^2 + (14*z - 2)*Dz + 6\n",
    "print(diffWalk)"
   ]
  },
  {
   "cell_type": "markdown",
   "metadata": {},
   "source": [
    "La théorie implique que toute singularité d'une solution de `diffWalk` doit être solution de son coefficient dominant."
   ]
  },
  {
   "cell_type": "code",
   "execution_count": 4,
   "metadata": {},
   "outputs": [
    {
     "name": "stdout",
     "output_type": "stream",
     "text": [
      "[0, 0.25000000000000000?]\n"
     ]
    }
   ],
   "source": [
    "roots = diffWalk.leading_coefficient().roots(QQbar, multiplicities=False)\n",
    "roots.sort(key=abs)\n",
    "print(roots)"
   ]
  },
  {
   "cell_type": "code",
   "execution_count": 5,
   "metadata": {},
   "outputs": [
    {
     "data": {
      "text/plain": [
       "[1/z, 1]"
      ]
     },
     "execution_count": 5,
     "metadata": {},
     "output_type": "execute_result"
    }
   ],
   "source": [
    "diffWalk.local_basis_monomials(0)"
   ]
  },
  {
   "cell_type": "code",
   "execution_count": 6,
   "metadata": {},
   "outputs": [
    {
     "name": "stdout",
     "output_type": "stream",
     "text": [
      "[z^(-1), 1 + 3*z + 10*z^2]\n"
     ]
    }
   ],
   "source": [
    "first_root = roots[0]\n",
    "local_basis = diffWalk.local_basis_expansions(first_root, order = 4)\n",
    "print(local_basis)"
   ]
  },
  {
   "cell_type": "markdown",
   "metadata": {},
   "source": [
    "On nomme $A_1 (z) = z^{-1}$ et $A_2 (z) = 1 + 3z + 10z^2 + \\dots$.\n",
    "\n",
    "Comme $W$ est convergente au voisinage de 0, on a en fait $W = A_2$."
   ]
  },
  {
   "cell_type": "code",
   "execution_count": 7,
   "metadata": {},
   "outputs": [
    {
     "name": "stdout",
     "output_type": "stream",
     "text": [
      "[(z - 1/4)^(-1/2) - 4*(z - 1/4)^(1/2) + 16*(z - 1/4)^(3/2) - 64*(z - 1/4)^(5/2), 1 - 4*(z - 1/4) + 16*(z - 1/4)^2 - 64*(z - 1/4)^3]\n"
     ]
    }
   ],
   "source": [
    "B = diffWalk.local_basis_expansions(1/4, order = 4)\n",
    "print(B)"
   ]
  },
  {
   "cell_type": "markdown",
   "metadata": {},
   "source": [
    "On pose\n",
    "\n",
    "$B_1 (z) = {\\left(z - \\frac{1}{4}\\right)}^{- 1 / 2} - 4 {\\left(z - \\frac{1}{4}\\right)}^{1 / 2} + \\dots$\n",
    "\n",
    "$B_2 (z) = 1 - 4 (z - \\frac{1}{4}) + \\dots$.\n",
    "\n",
    "Il faut trouver la matrice de passage de $(A)$ vers $(B)$."
   ]
  },
  {
   "cell_type": "code",
   "execution_count": 8,
   "metadata": {},
   "outputs": [],
   "source": [
    "# Represent W in terms of the A_j basis\n",
    "ini = [0, 1]\n",
    "\n",
    "# Find numeric coefficients of W in the B_j basis\n",
    "trans_mat = diffWalk.numerical_transition_matrix([0, 1/4])\n",
    "bas = trans_mat * vector(ini)"
   ]
  },
  {
   "cell_type": "code",
   "execution_count": 9,
   "metadata": {},
   "outputs": [
    {
     "name": "stdout",
     "output_type": "stream",
     "text": [
      "contributing: [([1.0000000000000000 +/- 6.94e-18]*I, (z - 1/4)^(-1/2) - 4*(z - 1/4)^(1/2) + 16*(z - 1/4)^(3/2) - 64*(z - 1/4)^(5/2)), ([-2.0000000000000000 +/- 1.39e-17], 1 - 4*(z - 1/4) + 16*(z - 1/4)^2 - 64*(z - 1/4)^3)]\n",
      "(1, (z - 1/4)^(-1/2))\n"
     ]
    }
   ],
   "source": [
    "eps = 1e-30\n",
    "for root in roots[1:2]:\n",
    "    trans_matrix = diffWalk.numerical_transition_matrix([0, 1/4], eps=eps)\n",
    "    coeffs_in_local_basis = trans_mat * vector(ini)\n",
    "    \n",
    "    if any(not coeff.is_nonzero() for coeff in coeffs_in_local_basis):\n",
    "        print('WARNING : ignoring some coefficients that appear to be zero')\n",
    "    \n",
    "    contributing = [(coeff, expr) for coeff, expr in zip(coeffs_in_local_basis, B)\n",
    "                    if coeff.is_nonzero()]\n",
    "    \n",
    "    print('contributing:', contributing)\n",
    "    print((contributing[0][1][0]))\n",
    "    # TODO ordonner les coeffs par croissance"
   ]
  },
  {
   "cell_type": "code",
   "execution_count": null,
   "metadata": {},
   "outputs": [],
   "source": []
  }
 ],
 "metadata": {
  "kernelspec": {
   "display_name": "SageMath 9.1",
   "language": "sage",
   "name": "sagemath"
  },
  "language_info": {
   "codemirror_mode": {
    "name": "ipython",
    "version": 3
   },
   "file_extension": ".py",
   "mimetype": "text/x-python",
   "name": "python",
   "nbconvert_exporter": "python",
   "pygments_lexer": "ipython3",
   "version": "3.7.3"
  }
 },
 "nbformat": 4,
 "nbformat_minor": 2
}
