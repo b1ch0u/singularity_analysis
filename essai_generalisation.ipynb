{
 "cells": [
  {
   "cell_type": "code",
   "execution_count": 1,
   "metadata": {},
   "outputs": [],
   "source": [
    "from ore_algebra import *\n",
    "\n",
    "from ore_algebra.analytic.differential_operator import DifferentialOperator\n",
    "from ore_algebra.analytic.local_solutions import (log_series, LocalBasisMapper,\n",
    "                                                  simplify_exponent, LogMonomial)\n",
    "from ore_algebra.analytic.path import Point"
   ]
  },
  {
   "cell_type": "code",
   "execution_count": 2,
   "metadata": {},
   "outputs": [],
   "source": [
    "import itertools as it\n",
    "\n",
    "def group_by_module(roots):\n",
    "    roots.sort(key=abs)\n",
    "    return it.groupby(roots, key=abs)"
   ]
  },
  {
   "cell_type": "code",
   "execution_count": 3,
   "metadata": {},
   "outputs": [],
   "source": [
    "def my_expansions(op, point, order=None, ring=None):\n",
    "    mypoint = Point(point, op)\n",
    "    dop = DifferentialOperator(op)\n",
    "    ldop = dop.shift(mypoint)\n",
    "    if order is None:\n",
    "        ind = ldop.indicial_polynomial(ldop.base_ring().gen())\n",
    "        order = max(dop.order(), ind.dispersion()) + 3\n",
    "    class Mapper(LocalBasisMapper):\n",
    "        def fun(self, ini):\n",
    "            return log_series(ini, self.shifted_bwrec, order)\n",
    "    sols = Mapper(ldop).run()\n",
    "    x = SR.var(dop.base_ring().variable_name())\n",
    "    dx = x if point.is_zero() else x.add(-point, hold=True)\n",
    "    if ring is None:\n",
    "        cm = get_coercion_model()\n",
    "        ring = cm.common_parent(\n",
    "                dop.base_ring().base_ring(),\n",
    "                mypoint.value.parent(),\n",
    "                *(sol.leftmost for sol in sols))\n",
    "    res = [[(c / ZZ(k).factorial() * (-point)^sol.leftmost, point, sol.leftmost, k)\n",
    "                    for n, vec in enumerate(sol.value)\n",
    "                    for k, c in reversed(list(enumerate(vec)))]\n",
    "           for sol in sols]\n",
    "    return res"
   ]
  },
  {
   "cell_type": "markdown",
   "metadata": {},
   "source": [
    "##### Prop 2.17 (p66) :\n",
    "Si\n",
    "$F(z) \\sim C {(1 - \\frac{z}{\\zeta})}^\\alpha \\log^m (1 - \\frac{z}{\\zeta})$ avec $\\alpha \\not\\in \\mathbb{N}$, alors\n",
    "$f_n \\sim C \\zeta^{-n} \\frac{n^{-\\alpha - 1}}{\\Gamma(-\\alpha)} \\log^m(n)$."
   ]
  },
  {
   "cell_type": "code",
   "execution_count": 4,
   "metadata": {},
   "outputs": [],
   "source": [
    "class GeneralMonomial:\n",
    "    def __init__(self, c, zeta, alpha, m):\n",
    "        self.c = c\n",
    "        self.zeta = zeta\n",
    "        self.alpha = alpha\n",
    "        self.m = m\n",
    "        # TODO assert alpha not in NN ou gerer différemment\n",
    "        self.asymp_c = c / gamma(-alpha)\n",
    "\n",
    "    def is_singular(self):\n",
    "        return self.alpha < 0 or self.m != 0\n",
    "\n",
    "    def __repr__(self):\n",
    "        if self.m == 0:\n",
    "            return f'{self.asymp_c} * {1/self.zeta}^n * n^{-self.alpha - 1}'\n",
    "        return f'{self.asymp_c} * {1/self.zeta}^n * n^{-self.alpha - 1} * log^{self.m}(n)'\n",
    "\n",
    "    def asymptotic_symbolic(self):\n",
    "        n = var('n')\n",
    "        return self.c / gamma(-self.alpha) * self.zeta^n * n^(-self.alpha - 1) * log(n)^self.m\n",
    "\n",
    "    def __cmp__(self, other):\n",
    "        # TODO zeta et alpha algébriques, c'est bon comme méthode de comparaison ?\n",
    "        biggest = None\n",
    "        if self.zeta != other.zeta:\n",
    "            biggest = self if self.zeta < other.zeta else other  # le plus petit zeta gagne\n",
    "        elif self.alpha != other.alpha:\n",
    "            biggest = self if self.alpha < other.alpha else other  # le plus petit alpha gagne\n",
    "        elif self.m != other.m:\n",
    "            biggest = self if self.m > other.m else other  # le plus grand m gagne\n",
    "        if biggest is None or not biggest.c.is_nonzero():\n",
    "            return 0\n",
    "        return 1 if biggest is self else -1\n",
    "    \n",
    "    def __lt__(self, other):\n",
    "        return 1 if self.__cmp__(other) == -1 else 0"
   ]
  },
  {
   "cell_type": "code",
   "execution_count": 5,
   "metadata": {},
   "outputs": [
    {
     "name": "stdout",
     "output_type": "stream",
     "text": [
      "(4*z^2 - z)*Dz^2 + (14*z - 2)*Dz + 6\n",
      "[z^(-1), 1 + 3*z + 10*z^2 + 35*z^3]\n"
     ]
    }
   ],
   "source": [
    "# Create the differential algebra to encode linear differential equation\n",
    "Pols.<z> = PolynomialRing(QQ)\n",
    "Diff.<Dz> = OreAlgebra(Pols)\n",
    "\n",
    "diffWalk = (4*z^2 - z)*Dz^2 + (14*z - 2)*Dz + 6\n",
    "print(diffWalk)\n",
    "basis_in_0 = diffWalk.local_basis_expansions(0)\n",
    "print(basis_in_0)\n",
    "ini = [0, 1]  # TODO"
   ]
  },
  {
   "cell_type": "code",
   "execution_count": 6,
   "metadata": {},
   "outputs": [
    {
     "name": "stdout",
     "output_type": "stream",
     "text": [
      "module: 0, roots: [0]\n",
      "module: 0.25000000000000000?, roots: [0.25000000000000000?]\n",
      "all monomials: [([2.00000000000000000000 +/- 1.70e-21])/sqrt(pi) * 4^n * n^-1/2, 0 * 4^n * n^-1]\n"
     ]
    }
   ],
   "source": [
    "roots = diffWalk.leading_coefficient().roots(QQbar, multiplicities=False)\n",
    "roots.sort(key=abs)\n",
    "\n",
    "eps = 1e-20\n",
    "found_a_sing = False\n",
    "all_monomials = []  # defini en dehors pour tenir compte de tous les monômes potentiels\n",
    "for module, roots in group_by_module(roots):\n",
    "    roots = list(roots)\n",
    "    print(f'module: {module}, roots: {roots}')\n",
    "    if module == 0:\n",
    "        continue\n",
    "    for root in roots:\n",
    "        trans_matrix = diffWalk.numerical_transition_matrix([0, root], eps=eps)\n",
    "        coeffs_in_local_basis = trans_matrix * vector(ini)\n",
    "        \n",
    "        local_expansions = my_expansions(diffWalk, root)\n",
    "        for k, terms in enumerate(local_expansions):\n",
    "            local_expansions[k] = terms[0]  # pousser plus loin ?\n",
    "        \n",
    "        all_monomials += [GeneralMonomial(lambda_i * c, zeta, alpha, m)\n",
    "                         for lambda_i, (c, zeta, alpha, m) in zip(coeffs_in_local_basis, local_expansions)]\n",
    "        \n",
    "        if any(coeff.is_nonzero() for coeff in coeffs_in_local_basis):\n",
    "            found_a_sing = True\n",
    "\n",
    "    if found_a_sing:\n",
    "        all_monomials.sort(reverse=True)\n",
    "        print(f'all monomials: {all_monomials}')\n",
    "        break"
   ]
  },
  {
   "cell_type": "code",
   "execution_count": null,
   "metadata": {},
   "outputs": [],
   "source": []
  }
 ],
 "metadata": {
  "kernelspec": {
   "display_name": "SageMath 9.1",
   "language": "sage",
   "name": "sagemath"
  },
  "language_info": {
   "codemirror_mode": {
    "name": "ipython",
    "version": 3
   },
   "file_extension": ".py",
   "mimetype": "text/x-python",
   "name": "python",
   "nbconvert_exporter": "python",
   "pygments_lexer": "ipython3",
   "version": "3.7.3"
  }
 },
 "nbformat": 4,
 "nbformat_minor": 2
}
