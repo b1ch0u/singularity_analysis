{
 "cells": [
  {
   "cell_type": "code",
   "execution_count": 1,
   "metadata": {},
   "outputs": [],
   "source": [
    "from ore_algebra import *\n",
    "\n",
    "from ore_algebra.analytic.differential_operator import DifferentialOperator\n",
    "from ore_algebra.analytic.local_solutions import (log_series, LocalBasisMapper,\n",
    "                                                  simplify_exponent, LogMonomial)\n",
    "from ore_algebra.analytic.path import Point"
   ]
  },
  {
   "cell_type": "code",
   "execution_count": 2,
   "metadata": {},
   "outputs": [],
   "source": [
    "import itertools as it\n",
    "\n",
    "def group_by_module(roots):\n",
    "    '''\n",
    "    Returns an iterator over groups of roots, grouped by increasing module.\n",
    "    Assumes `roots` to be an iterable over 2-tuples of the form (root, multiplicity).\n",
    "    '''\n",
    "    def root_module(t):\n",
    "        return abs(t[0])\n",
    "    roots.sort(key=root_module)\n",
    "    return it.groupby(roots, key=root_module)"
   ]
  },
  {
   "cell_type": "code",
   "execution_count": 3,
   "metadata": {},
   "outputs": [],
   "source": [
    "def is_regular_singular_point(point, leading_mult, var, op):\n",
    "    '''\n",
    "    Checks wether a point is a regular singular point of a differential operator.\n",
    "    `leading_mult` is the multiplicity of `point` as a root\n",
    "    of the leading coefficient of `op`.\n",
    "    '''\n",
    "    r = op.order()\n",
    "    for i, poly in op.dict().items(): # 0 -> p_0, ...\n",
    "        if r - i < leading_mult \\\n",
    "                and not ((var - point)^(leading_mult - (r - i))).divides(poly):\n",
    "            return False\n",
    "    return True"
   ]
  },
  {
   "cell_type": "code",
   "execution_count": 4,
   "metadata": {},
   "outputs": [],
   "source": [
    "def my_expansions(op, point, order=None, ring=None):\n",
    "    mypoint = Point(point, op)\n",
    "    dop = DifferentialOperator(op)\n",
    "    ldop = dop.shift(mypoint)\n",
    "    if order is None:\n",
    "        ind = ldop.indicial_polynomial(ldop.base_ring().gen())\n",
    "        order = max(dop.order(), ind.dispersion()) + 3\n",
    "    class Mapper(LocalBasisMapper):\n",
    "        def fun(self, ini):\n",
    "            return log_series(ini, self.shifted_bwrec, order)\n",
    "    sols = Mapper(ldop).run()\n",
    "    x = SR.var(dop.base_ring().variable_name())\n",
    "    dx = x if point.is_zero() else x.add(-point, hold=True)\n",
    "    if ring is None:\n",
    "        cm = get_coercion_model()\n",
    "        ring = cm.common_parent(\n",
    "                dop.base_ring().base_ring(),\n",
    "                mypoint.value.parent(),\n",
    "                *(sol.leftmost for sol in sols))\n",
    "    return [[(c / ZZ(k).factorial() * (-point)^sol.leftmost, point, sol.leftmost + n, k)\n",
    "                    for n, vec in enumerate(sol.value)\n",
    "                    for k, c in reversed(list(enumerate(vec)))]\n",
    "            for sol in sols]"
   ]
  },
  {
   "cell_type": "markdown",
   "metadata": {},
   "source": [
    "##### Prop 2.17 (p66) :\n",
    "Si\n",
    "$F(z) \\sim C {(1 - \\frac{z}{\\zeta})}^\\alpha \\log^m (1 - \\frac{z}{\\zeta})$ avec $\\alpha \\not\\in \\mathbb{N}$, alors\n",
    "$f_n \\sim C \\zeta^{-n} \\frac{n^{-\\alpha - 1}}{\\Gamma(-\\alpha)} \\log^m(n)$."
   ]
  },
  {
   "cell_type": "code",
   "execution_count": 5,
   "metadata": {},
   "outputs": [],
   "source": [
    "class GeneralMonomial:\n",
    "    def __init__(self, c, zeta, alpha, m):\n",
    "        # TODO assert alpha not in NN et gerer différemment\n",
    "        self.c = c\n",
    "        self.zeta = zeta\n",
    "        self.alpha = alpha\n",
    "        self.m = m\n",
    "        self.asymp_c = c / gamma(-alpha)\n",
    "\n",
    "    def is_singular(self):\n",
    "        return self.alpha < 0 or self.m != 0\n",
    "\n",
    "    def __repr__(self):\n",
    "        if self.m == 0:\n",
    "            return f'{self.asymp_c} * {1/self.zeta}^n * n^{-self.alpha - 1}'\n",
    "        return f'{self.asymp_c} * {1/self.zeta}^n * n^{-self.alpha - 1} * log^{self.m}(n)'\n",
    "\n",
    "    def asymptotic_symbolic(self):\n",
    "        n = var('n')\n",
    "        return self.c / gamma(-self.alpha) * self.zeta^n * n^(-self.alpha - 1) * log(n)^self.m\n",
    "\n",
    "    def __cmp__(self, other):\n",
    "        biggest = None\n",
    "        if abs(self.zeta) != abs(other.zeta):\n",
    "            biggest = self if self.zeta < other.zeta else other  # le plus petit |zeta| gagne\n",
    "        elif self.alpha != other.alpha:\n",
    "            biggest = self if self.alpha < other.alpha else other  # le plus petit alpha gagne\n",
    "        elif self.m != other.m:\n",
    "            biggest = self if self.m > other.m else other  # le plus grand m gagne\n",
    "        if biggest is None or not biggest.c.is_nonzero():\n",
    "            return 0\n",
    "        return 1 if biggest is self else -1\n",
    "    \n",
    "    def __le__(self, other):\n",
    "        return 0 if self.__cmp__(other) == 1 else 1\n",
    "    \n",
    "    def __lt__(self, other):\n",
    "        return 1 if self.__cmp__(other) == -1 else 0"
   ]
  },
  {
   "cell_type": "code",
   "execution_count": 6,
   "metadata": {},
   "outputs": [],
   "source": [
    "def compute_initial_decomp(op, first_coefficients):\n",
    "    def is_singular_func(func):\n",
    "        for coeff, mon in func:\n",
    "            if coeff != 0 and (mon.n not in NN or mon.k != 0):\n",
    "                return True\n",
    "        return False\n",
    "    \n",
    "    def extract_coeff(fsum, n):\n",
    "        return next(t[0] for t in fsum if t[1].n == n and t[1].k == 0)\n",
    "\n",
    "    basis = op.local_basis_expansions(0, order=op.order())\n",
    "\n",
    "    sing_vect = [is_singular_func(func) for func in basis]\n",
    "    nb_of_non_sing = len(basis) - sum(sing_vect)\n",
    "    mat = matrix([\n",
    "        [\n",
    "            extract_coeff(fsum, n)\n",
    "            for fsum, is_sing in zip(basis, sing_vect) if not is_sing\n",
    "        ]\n",
    "        for n in range(nb_of_non_sing)\n",
    "    ])\n",
    "    non_sing_coeffs = mat.inverse() * vector(first_coefficients[:nb_of_non_sing])\n",
    "    \n",
    "    it_non_sing_coeffs = iter(non_sing_coeffs)\n",
    "    decomp = [0 if is_sing else next(it_non_sing_coeffs)\n",
    "              for is_sing in sing_vect]\n",
    "    \n",
    "    return basis, decomp"
   ]
  },
  {
   "cell_type": "code",
   "execution_count": 7,
   "metadata": {},
   "outputs": [],
   "source": [
    "EPS = 1e-20\n",
    "ORDER = 6\n",
    "\n",
    "def handle_root(op, root, ini):\n",
    "    trans_matrix = op.numerical_transition_matrix([0, root], eps=EPS)\n",
    "    coeffs_in_local_basis = trans_matrix * vector(ini)\n",
    "\n",
    "    local_expansions = my_expansions(op, root, order=ORDER)\n",
    "\n",
    "    new_monomials = [GeneralMonomial(lambda_i * c, zeta, alpha, m)\n",
    "                     for terms in local_expansions\n",
    "                     for lambda_i, (c, zeta, alpha, m) in zip(coeffs_in_local_basis, terms)]\n",
    "    \n",
    "    return new_monomials"
   ]
  },
  {
   "cell_type": "code",
   "execution_count": 8,
   "metadata": {},
   "outputs": [
    {
     "name": "stdout",
     "output_type": "stream",
     "text": [
      "[0, 1]\n"
     ]
    }
   ],
   "source": [
    "Pols.<z> = PolynomialRing(QQ)\n",
    "Diff.<Dz> = OreAlgebra(Pols)\n",
    "\n",
    "op = (4*z^2 - z)*Dz^2 + (14*z - 2)*Dz + 6\n",
    "\n",
    "basis_in_0, ini = compute_initial_decomp(op, [1, 3])\n",
    "print(ini)"
   ]
  },
  {
   "cell_type": "code",
   "execution_count": 9,
   "metadata": {},
   "outputs": [
    {
     "name": "stdout",
     "output_type": "stream",
     "text": [
      "([2.00000000000000000000 +/- 1.70e-21])*(1/4)^n/(sqrt(pi)*sqrt(n)) + ([8.00000000000000000000 +/- 6.78e-21]*I)*(1/4)^n/(sqrt(pi)*n^(3/2))\n"
     ]
    }
   ],
   "source": [
    "roots = op.leading_coefficient().roots(QQbar)\n",
    "# TODO check 0 is reg or sing reg\n",
    "\n",
    "found_a_sing = False\n",
    "got_problem = False\n",
    "all_monomials = []\n",
    "for module, roots in group_by_module(roots):\n",
    "    roots = list(roots)\n",
    "    if module == 0:\n",
    "        continue\n",
    "\n",
    "    for root, multiplicity in roots:\n",
    "\n",
    "        if not is_regular_singular_point(root, multiplicity, z, op):\n",
    "                print('Got a non regular singular point. Stoping here')\n",
    "                got_problem = True\n",
    "                break\n",
    "\n",
    "        new_monomials = handle_root(op, root, ini)\n",
    "        all_monomials += new_monomials\n",
    "\n",
    "        if any(mon.is_singular() and mon.c.is_nonzero()\n",
    "               for mon in new_monomials):\n",
    "            found_a_sing = True\n",
    "        \n",
    "    if got_problem:\n",
    "        break\n",
    "    if found_a_sing:\n",
    "        all_monomials.sort(reverse=True)\n",
    "        print(sum((mon.asymptotic_symbolic() for mon in all_monomials), start=0))\n",
    "        break"
   ]
  },
  {
   "cell_type": "code",
   "execution_count": null,
   "metadata": {},
   "outputs": [],
   "source": []
  },
  {
   "cell_type": "code",
   "execution_count": 10,
   "metadata": {},
   "outputs": [],
   "source": [
    "def test_is_regular_singular_point():\n",
    "    Pols.<z> = PolynomialRing(QQ)\n",
    "    Diff.<Dz> = OreAlgebra(Pols)\n",
    "\n",
    "    op = (4*z^2 - z) * Dz^2 + (14 * z - 2) * Dz + 6\n",
    "    assert is_regular_singular_point(0, 1, z, op) == True\n",
    "    assert is_regular_singular_point(1/4, 1, z, op) == True\n",
    "    \n",
    "    op2 = (4*z^3 - z^2) * Dz^2 + (14 * z - 2) * Dz + 6\n",
    "    assert is_regular_singular_point(0, 2, z, op2) == False\n",
    "    assert is_regular_singular_point(1/4, 1, z, op2) == True\n",
    "    \n",
    "    op3 = (z)^4 * (z-1)^5 * Dz^3 + (z^2) * (z - 1) * Dz\n",
    "    assert is_regular_singular_point(0, 4, z, op3) == True\n",
    "    assert is_regular_singular_point(1, 5, z, op3) == False\n",
    "    \n",
    "    op4 = (z-1/4)^8 * (z-1/5)^12 * Dz^9 + (z - 1/4)^4 * Dz^5 + 1\n",
    "    assert is_regular_singular_point(1/4, 8, z, op4) == True\n",
    "    assert is_regular_singular_point(1/5, 12, z, op4) == False\n",
    "\n",
    "test_is_regular_singular_point()"
   ]
  },
  {
   "cell_type": "code",
   "execution_count": null,
   "metadata": {},
   "outputs": [],
   "source": []
  }
 ],
 "metadata": {
  "kernelspec": {
   "display_name": "SageMath 9.1",
   "language": "sage",
   "name": "sagemath"
  },
  "language_info": {
   "codemirror_mode": {
    "name": "ipython",
    "version": 3
   },
   "file_extension": ".py",
   "mimetype": "text/x-python",
   "name": "python",
   "nbconvert_exporter": "python",
   "pygments_lexer": "ipython3",
   "version": "3.7.3"
  }
 },
 "nbformat": 4,
 "nbformat_minor": 2
}
