{
 "cells": [
  {
   "cell_type": "code",
   "execution_count": 1,
   "metadata": {},
   "outputs": [],
   "source": [
    "from ore_algebra import *\n",
    "\n",
    "from ore_algebra.analytic.differential_operator import DifferentialOperator\n",
    "from ore_algebra.analytic.local_solutions import (log_series, LocalBasisMapper,\n",
    "                                                  simplify_exponent, LogMonomial)\n",
    "from ore_algebra.analytic.path import Point"
   ]
  },
  {
   "cell_type": "code",
   "execution_count": 2,
   "metadata": {},
   "outputs": [],
   "source": [
    "import itertools as it\n",
    "\n",
    "def group_by_module(roots):\n",
    "    '''\n",
    "    Returns an iterator over groups of roots, grouped by increasing module.\n",
    "    Assumes `roots` to be an iterable over 2-tuples of the form (root, multiplicity).\n",
    "    '''\n",
    "    def root_module(t):\n",
    "        return abs(t[0])\n",
    "    roots.sort(key=root_module)\n",
    "    return it.groupby(roots, key=root_module)"
   ]
  },
  {
   "cell_type": "code",
   "execution_count": 3,
   "metadata": {},
   "outputs": [],
   "source": [
    "def is_regular_singular_point(point, leading_mult, var, op):\n",
    "    '''\n",
    "    Checks wether a point is a regular singular point of a differential operator.\n",
    "    `leading_mult` is the multiplicity of `point` as a root\n",
    "    of the leading coefficient of `op`.\n",
    "    '''\n",
    "    r = op.order()\n",
    "    for i, poly in op.dict().items(): # 0 -> p_0, ...\n",
    "        if r - i < leading_mult \\\n",
    "                and not ((var - point)^(leading_mult - (r - i))).divides(poly):\n",
    "            return False\n",
    "    return True"
   ]
  },
  {
   "cell_type": "code",
   "execution_count": 4,
   "metadata": {},
   "outputs": [],
   "source": [
    "def my_expansions(op, point, order=None, ring=None):\n",
    "    mypoint = Point(point, op)\n",
    "    dop = DifferentialOperator(op)\n",
    "    ldop = dop.shift(mypoint)\n",
    "    if order is None:\n",
    "        ind = ldop.indicial_polynomial(ldop.base_ring().gen())\n",
    "        order = max(dop.order(), ind.dispersion()) + 3\n",
    "    class Mapper(LocalBasisMapper):\n",
    "        def fun(self, ini):\n",
    "            return log_series(ini, self.shifted_bwrec, order)\n",
    "    sols = Mapper(ldop).run()\n",
    "    x = SR.var(dop.base_ring().variable_name())\n",
    "    dx = x if point.is_zero() else x.add(-point, hold=True)\n",
    "    if ring is None:\n",
    "        cm = get_coercion_model()\n",
    "        ring = cm.common_parent(\n",
    "                dop.base_ring().base_ring(),\n",
    "                mypoint.value.parent(),\n",
    "                *(sol.leftmost for sol in sols))\n",
    "    return [[(c / ZZ(k).factorial() * (-point)^sol.leftmost, point, sol.leftmost + n, k)\n",
    "                    for n, vec in enumerate(sol.value)\n",
    "                    for k, c in reversed(list(enumerate(vec)))]\n",
    "            for sol in sols]"
   ]
  },
  {
   "cell_type": "markdown",
   "metadata": {},
   "source": [
    "##### Prop 2.17 (p66) :\n",
    "Si\n",
    "$F(z) \\sim C {(1 - \\frac{z}{\\zeta})}^\\alpha \\log^m (1 - \\frac{z}{\\zeta})$ avec $\\alpha \\not\\in \\mathbb{N}$, alors\n",
    "$f_n \\sim C \\zeta^{-n} \\frac{n^{-\\alpha - 1}}{\\Gamma(-\\alpha)} \\log^m(n)$."
   ]
  },
  {
   "cell_type": "code",
   "execution_count": 5,
   "metadata": {},
   "outputs": [],
   "source": [
    "class GeneralMonomial:\n",
    "    def __init__(self, c, zeta, alpha, m):\n",
    "        # TODO assert alpha not in NN et gerer différemment\n",
    "        self.c = c\n",
    "        self.zeta = zeta\n",
    "        self.alpha = alpha\n",
    "        self.m = m\n",
    "        self.asymp_c = c / gamma(-alpha)\n",
    "\n",
    "    def is_singular(self):\n",
    "        return self.alpha < 0 or self.m != 0\n",
    "\n",
    "    def __repr__(self):\n",
    "        if self.m == 0:\n",
    "            return f'{self.asymp_c} * {1/self.zeta}^n * n^{-self.alpha - 1}'\n",
    "        return f'{self.asymp_c} * {1/self.zeta}^n * n^{-self.alpha - 1} * log^{self.m}(n)'\n",
    "\n",
    "    def asymptotic_symbolic(self):\n",
    "        n = var('n')\n",
    "        return self.c / gamma(-self.alpha) * self.zeta^n * n^(-self.alpha - 1) * log(n)^self.m\n",
    "\n",
    "    def __cmp__(self, other):\n",
    "        biggest = None\n",
    "        if abs(self.zeta) != abs(other.zeta):\n",
    "            biggest = self if self.zeta < other.zeta else other  # le plus petit |zeta| gagne\n",
    "        elif self.alpha != other.alpha:\n",
    "            biggest = self if self.alpha < other.alpha else other  # le plus petit alpha gagne\n",
    "        elif self.m != other.m:\n",
    "            biggest = self if self.m > other.m else other  # le plus grand m gagne\n",
    "        if biggest is None or not biggest.c.is_nonzero():\n",
    "            return 0\n",
    "        return 1 if biggest is self else -1\n",
    "    \n",
    "    def __le__(self, other):\n",
    "        return 0 if self.__cmp__(other) == 1 else 1\n",
    "    \n",
    "    def __lt__(self, other):\n",
    "        return 1 if self.__cmp__(other) == -1 else 0"
   ]
  },
  {
   "cell_type": "code",
   "execution_count": 6,
   "metadata": {},
   "outputs": [],
   "source": [
    "def compute_initial_decomp(op, first_coefficients):\n",
    "    def is_singular_func(func):\n",
    "        for coeff, mon in func:\n",
    "            if coeff != 0 and (mon.n not in NN or mon.k != 0):\n",
    "                return True\n",
    "        return False\n",
    "    \n",
    "    def extract_coeff(fsum, n):\n",
    "        return next(t[0] for t in fsum if t[1].n == n and t[1].k == 0)\n",
    "\n",
    "    basis = op.local_basis_expansions(0, order=op.order())\n",
    "\n",
    "    sing_vect = [is_singular_func(func) for func in basis]\n",
    "    nb_of_non_sing = len(basis) - sum(sing_vect)\n",
    "    mat = matrix([\n",
    "        [\n",
    "            extract_coeff(fsum, n)\n",
    "            for fsum, is_sing in zip(basis, sing_vect) if not is_sing\n",
    "        ]\n",
    "        for n in range(nb_of_non_sing)\n",
    "    ])\n",
    "    non_sing_coeffs = mat.inverse() * vector(first_coefficients[:nb_of_non_sing])\n",
    "    \n",
    "    it_non_sing_coeffs = iter(non_sing_coeffs)\n",
    "    decomp = [0 if is_sing else next(it_non_sing_coeffs)\n",
    "              for is_sing in sing_vect]\n",
    "    \n",
    "    return basis, decomp"
   ]
  },
  {
   "cell_type": "code",
   "execution_count": 7,
   "metadata": {},
   "outputs": [],
   "source": [
    "EPS = 1e-20\n",
    "ORDER = 6\n",
    "\n",
    "def handle_root(op, root, ini):\n",
    "    trans_matrix = op.numerical_transition_matrix([0, root], eps=EPS)\n",
    "    coeffs_in_local_basis = trans_matrix * vector(ini)\n",
    "\n",
    "    local_expansions = my_expansions(op, root, order=ORDER)\n",
    "\n",
    "    new_monomials = [GeneralMonomial(lambda_i * c, zeta, alpha, m)\n",
    "                     for terms in local_expansions\n",
    "                     for lambda_i, (c, zeta, alpha, m) in zip(coeffs_in_local_basis, terms)]\n",
    "    \n",
    "    return new_monomials"
   ]
  },
  {
   "cell_type": "code",
   "execution_count": 8,
   "metadata": {},
   "outputs": [
    {
     "name": "stdout",
     "output_type": "stream",
     "text": [
      "[0, 1]\n"
     ]
    }
   ],
   "source": [
    "Pols.<z> = PolynomialRing(QQ)\n",
    "Diff.<Dz> = OreAlgebra(Pols)\n",
    "\n",
    "op = (4*z^2 - z)*Dz^2 + (14*z - 2)*Dz + 6\n",
    "\n",
    "basis_in_0, ini = compute_initial_decomp(op, [1, 3])\n",
    "print(ini)"
   ]
  },
  {
   "cell_type": "code",
   "execution_count": 9,
   "metadata": {},
   "outputs": [
    {
     "name": "stdout",
     "output_type": "stream",
     "text": [
      "([2.00000000000000000000 +/- 1.70e-21])*(1/4)^n/(sqrt(pi)*sqrt(n)) + ([8.00000000000000000000 +/- 6.78e-21]*I)*(1/4)^n/(sqrt(pi)*n^(3/2))\n"
     ]
    }
   ],
   "source": [
    "roots = op.leading_coefficient().roots(QQbar)\n",
    "# TODO check 0 is reg or sing reg\n",
    "\n",
    "found_a_sing = False\n",
    "got_problem = False\n",
    "all_monomials = []\n",
    "for module, roots in group_by_module(roots):\n",
    "    roots = list(roots)\n",
    "    if module == 0:\n",
    "        continue\n",
    "\n",
    "    for root, multiplicity in roots:\n",
    "\n",
    "        if not is_regular_singular_point(root, multiplicity, z, op):\n",
    "                print('Got a non regular singular point. Stoping here')\n",
    "                got_problem = True\n",
    "                break\n",
    "\n",
    "        new_monomials = handle_root(op, root, ini)\n",
    "        all_monomials += new_monomials\n",
    "\n",
    "        if any(mon.is_singular() and mon.c.is_nonzero()\n",
    "               for mon in new_monomials):\n",
    "            found_a_sing = True\n",
    "        \n",
    "    if got_problem:\n",
    "        break\n",
    "    if found_a_sing:\n",
    "        all_monomials.sort(reverse=True)\n",
    "        print(sum((mon.asymptotic_symbolic() for mon in all_monomials), start=0))\n",
    "        break"
   ]
  },
  {
   "cell_type": "code",
   "execution_count": null,
   "metadata": {},
   "outputs": [],
   "source": []
  },
  {
   "cell_type": "code",
   "execution_count": 10,
   "metadata": {},
   "outputs": [],
   "source": [
    "def test_is_regular_singular_point():\n",
    "    Pols.<z> = PolynomialRing(QQ)\n",
    "    Diff.<Dz> = OreAlgebra(Pols)\n",
    "\n",
    "    op = (4*z^2 - z) * Dz^2 + (14 * z - 2) * Dz + 6\n",
    "    assert is_regular_singular_point(0, 1, z, op) == True\n",
    "    assert is_regular_singular_point(1/4, 1, z, op) == True\n",
    "    \n",
    "    op2 = (4*z^3 - z^2) * Dz^2 + (14 * z - 2) * Dz + 6\n",
    "    assert is_regular_singular_point(0, 2, z, op2) == False\n",
    "    assert is_regular_singular_point(1/4, 1, z, op2) == True\n",
    "    \n",
    "    op3 = (z)^4 * (z-1)^5 * Dz^3 + (z^2) * (z - 1) * Dz\n",
    "    assert is_regular_singular_point(0, 4, z, op3) == True\n",
    "    assert is_regular_singular_point(1, 5, z, op3) == False\n",
    "    \n",
    "    op4 = (z-1/4)^8 * (z-1/5)^12 * Dz^9 + (z - 1/4)^4 * Dz^5 + 1\n",
    "    assert is_regular_singular_point(1/4, 8, z, op4) == True\n",
    "    assert is_regular_singular_point(1/5, 12, z, op4) == False\n",
    "\n",
    "test_is_regular_singular_point()"
   ]
  },
  {
   "cell_type": "code",
   "execution_count": 14,
   "metadata": {},
   "outputs": [
    {
     "data": {
      "text/plain": [
       "[1/z, 1]"
      ]
     },
     "execution_count": 14,
     "metadata": {},
     "output_type": "execute_result"
    }
   ],
   "source": [
    "op.local_basis_monomials(0)"
   ]
  },
  {
   "cell_type": "code",
   "execution_count": 15,
   "metadata": {},
   "outputs": [
    {
     "name": "stdout",
     "output_type": "stream",
     "text": [
      "1/z <class 'sage.symbolic.expression.Expression'>\n",
      "1 <class 'sage.symbolic.expression.Expression'>\n"
     ]
    }
   ],
   "source": [
    "for elem in op.local_basis_monomials(0):\n",
    "    print(elem, type(elem))"
   ]
  },
  {
   "cell_type": "code",
   "execution_count": 16,
   "metadata": {},
   "outputs": [
    {
     "data": {
      "text/plain": [
       "[2/sqrt(4*z - 1), 1]"
      ]
     },
     "execution_count": 16,
     "metadata": {},
     "output_type": "execute_result"
    }
   ],
   "source": [
    "op.local_basis_monomials(1/4)"
   ]
  },
  {
   "cell_type": "code",
   "execution_count": 17,
   "metadata": {},
   "outputs": [
    {
     "data": {
      "text/plain": [
       "[(z - 1/4)^(-1/2) - 4*(z - 1/4)^(1/2) + 16*(z - 1/4)^(3/2) - 64*(z - 1/4)^(5/2) + 256*(z - 1/4)^(7/2),\n",
       " 1 - 4*(z - 1/4) + 16*(z - 1/4)^2 - 64*(z - 1/4)^3 + 256*(z - 1/4)^4]"
      ]
     },
     "execution_count": 17,
     "metadata": {},
     "output_type": "execute_result"
    }
   ],
   "source": [
    "op.local_basis_expansions(1/4)"
   ]
  },
  {
   "cell_type": "code",
   "execution_count": 18,
   "metadata": {},
   "outputs": [
    {
     "ename": "AttributeError",
     "evalue": "'UnivariateDifferentialOperatorOverUnivariateRing' object has no attribute 'egf'",
     "output_type": "error",
     "traceback": [
      "\u001b[0;31m---------------------------------------------------------------------------\u001b[0m",
      "\u001b[0;31mAttributeError\u001b[0m                            Traceback (most recent call last)",
      "\u001b[0;32m<ipython-input-18-2d31ae667654>\u001b[0m in \u001b[0;36m<module>\u001b[0;34m()\u001b[0m\n\u001b[0;32m----> 1\u001b[0;31m \u001b[0mop\u001b[0m\u001b[0;34m.\u001b[0m\u001b[0megf\u001b[0m\u001b[0;34m\u001b[0m\u001b[0;34m\u001b[0m\u001b[0m\n\u001b[0m",
      "\u001b[0;32m/home/seb/installs/SageMath/local/lib/python3.7/site-packages/sage/structure/element.pyx\u001b[0m in \u001b[0;36msage.structure.element.Element.__getattr__ (build/cythonized/sage/structure/element.c:4614)\u001b[0;34m()\u001b[0m\n\u001b[1;32m    485\u001b[0m             \u001b[0mAttributeError\u001b[0m\u001b[0;34m:\u001b[0m \u001b[0;34m'LeftZeroSemigroup_with_category.element_class'\u001b[0m \u001b[0mobject\u001b[0m \u001b[0mhas\u001b[0m \u001b[0mno\u001b[0m \u001b[0mattribute\u001b[0m \u001b[0;34m'blah_blah'\u001b[0m\u001b[0;34m\u001b[0m\u001b[0;34m\u001b[0m\u001b[0m\n\u001b[1;32m    486\u001b[0m         \"\"\"\n\u001b[0;32m--> 487\u001b[0;31m         \u001b[0;32mreturn\u001b[0m \u001b[0mself\u001b[0m\u001b[0;34m.\u001b[0m\u001b[0mgetattr_from_category\u001b[0m\u001b[0;34m(\u001b[0m\u001b[0mname\u001b[0m\u001b[0;34m)\u001b[0m\u001b[0;34m\u001b[0m\u001b[0;34m\u001b[0m\u001b[0m\n\u001b[0m\u001b[1;32m    488\u001b[0m \u001b[0;34m\u001b[0m\u001b[0m\n\u001b[1;32m    489\u001b[0m     \u001b[0mcdef\u001b[0m \u001b[0mgetattr_from_category\u001b[0m\u001b[0;34m(\u001b[0m\u001b[0mself\u001b[0m\u001b[0;34m,\u001b[0m \u001b[0mname\u001b[0m\u001b[0;34m)\u001b[0m\u001b[0;34m:\u001b[0m\u001b[0;34m\u001b[0m\u001b[0;34m\u001b[0m\u001b[0m\n",
      "\u001b[0;32m/home/seb/installs/SageMath/local/lib/python3.7/site-packages/sage/structure/element.pyx\u001b[0m in \u001b[0;36msage.structure.element.Element.getattr_from_category (build/cythonized/sage/structure/element.c:4723)\u001b[0;34m()\u001b[0m\n\u001b[1;32m    498\u001b[0m         \u001b[0;32melse\u001b[0m\u001b[0;34m:\u001b[0m\u001b[0;34m\u001b[0m\u001b[0;34m\u001b[0m\u001b[0m\n\u001b[1;32m    499\u001b[0m             \u001b[0mcls\u001b[0m \u001b[0;34m=\u001b[0m \u001b[0mP\u001b[0m\u001b[0;34m.\u001b[0m\u001b[0m_abstract_element_class\u001b[0m\u001b[0;34m\u001b[0m\u001b[0;34m\u001b[0m\u001b[0m\n\u001b[0;32m--> 500\u001b[0;31m         \u001b[0;32mreturn\u001b[0m \u001b[0mgetattr_from_other_class\u001b[0m\u001b[0;34m(\u001b[0m\u001b[0mself\u001b[0m\u001b[0;34m,\u001b[0m \u001b[0mcls\u001b[0m\u001b[0;34m,\u001b[0m \u001b[0mname\u001b[0m\u001b[0;34m)\u001b[0m\u001b[0;34m\u001b[0m\u001b[0;34m\u001b[0m\u001b[0m\n\u001b[0m\u001b[1;32m    501\u001b[0m \u001b[0;34m\u001b[0m\u001b[0m\n\u001b[1;32m    502\u001b[0m     \u001b[0;32mdef\u001b[0m \u001b[0m__dir__\u001b[0m\u001b[0;34m(\u001b[0m\u001b[0mself\u001b[0m\u001b[0;34m)\u001b[0m\u001b[0;34m:\u001b[0m\u001b[0;34m\u001b[0m\u001b[0;34m\u001b[0m\u001b[0m\n",
      "\u001b[0;32m/home/seb/installs/SageMath/local/lib/python3.7/site-packages/sage/cpython/getattr.pyx\u001b[0m in \u001b[0;36msage.cpython.getattr.getattr_from_other_class (build/cythonized/sage/cpython/getattr.c:2614)\u001b[0;34m()\u001b[0m\n\u001b[1;32m    392\u001b[0m         \u001b[0mdummy_error_message\u001b[0m\u001b[0;34m.\u001b[0m\u001b[0mcls\u001b[0m \u001b[0;34m=\u001b[0m \u001b[0mtype\u001b[0m\u001b[0;34m(\u001b[0m\u001b[0mself\u001b[0m\u001b[0;34m)\u001b[0m\u001b[0;34m\u001b[0m\u001b[0;34m\u001b[0m\u001b[0m\n\u001b[1;32m    393\u001b[0m         \u001b[0mdummy_error_message\u001b[0m\u001b[0;34m.\u001b[0m\u001b[0mname\u001b[0m \u001b[0;34m=\u001b[0m \u001b[0mname\u001b[0m\u001b[0;34m\u001b[0m\u001b[0;34m\u001b[0m\u001b[0m\n\u001b[0;32m--> 394\u001b[0;31m         \u001b[0;32mraise\u001b[0m \u001b[0mAttributeError\u001b[0m\u001b[0;34m(\u001b[0m\u001b[0mdummy_error_message\u001b[0m\u001b[0;34m)\u001b[0m\u001b[0;34m\u001b[0m\u001b[0;34m\u001b[0m\u001b[0m\n\u001b[0m\u001b[1;32m    395\u001b[0m     \u001b[0mattribute\u001b[0m \u001b[0;34m=\u001b[0m \u001b[0;34m<\u001b[0m\u001b[0mobject\u001b[0m\u001b[0;34m>\u001b[0m\u001b[0mattr\u001b[0m\u001b[0;34m\u001b[0m\u001b[0;34m\u001b[0m\u001b[0m\n\u001b[1;32m    396\u001b[0m     \u001b[0;31m# Check for a descriptor (__get__ in Python)\u001b[0m\u001b[0;34m\u001b[0m\u001b[0;34m\u001b[0m\u001b[0;34m\u001b[0m\u001b[0m\n",
      "\u001b[0;31mAttributeError\u001b[0m: 'UnivariateDifferentialOperatorOverUnivariateRing' object has no attribute 'egf'"
     ]
    }
   ],
   "source": [
    "op.egf"
   ]
  },
  {
   "cell_type": "code",
   "execution_count": 19,
   "metadata": {},
   "outputs": [],
   "source": [
    "op2 = (16*z^4 - z^2)*Dz^3 + (128*z^3 + 8*z^2 - 6*z)*Dz^2 + (224*z^2 + 28*z - 6)*Dz + 64*z + 12"
   ]
  },
  {
   "cell_type": "code",
   "execution_count": 23,
   "metadata": {},
   "outputs": [
    {
     "data": {
      "text/plain": [
       "z^(-2)"
      ]
     },
     "execution_count": 23,
     "metadata": {},
     "output_type": "execute_result"
    }
   ],
   "source": [
    "expr = op2.local_basis_monomials(0)[0]\n",
    "expr"
   ]
  },
  {
   "cell_type": "code",
   "execution_count": 24,
   "metadata": {},
   "outputs": [
    {
     "data": {
      "text/plain": [
       "['Order',\n",
       " 'WZ_certificate',\n",
       " '__abs__',\n",
       " '__add__',\n",
       " '__bool__',\n",
       " '__call__',\n",
       " '__class__',\n",
       " '__complex__',\n",
       " '__copy__',\n",
       " '__delattr__',\n",
       " '__dir__',\n",
       " '__doc__',\n",
       " '__eq__',\n",
       " '__float__',\n",
       " '__floordiv__',\n",
       " '__format__',\n",
       " '__ge__',\n",
       " '__getattribute__',\n",
       " '__getmetaclass__',\n",
       " '__getstate__',\n",
       " '__gt__',\n",
       " '__hash__',\n",
       " '__index__',\n",
       " '__init__',\n",
       " '__init_subclass__',\n",
       " '__int__',\n",
       " '__invert__',\n",
       " '__le__',\n",
       " '__len__',\n",
       " '__lt__',\n",
       " '__mod__',\n",
       " '__module__',\n",
       " '__mul__',\n",
       " '__ne__',\n",
       " '__neg__',\n",
       " '__new__',\n",
       " '__pari__',\n",
       " '__pos__',\n",
       " '__pow__',\n",
       " '__pyx_vtable__',\n",
       " '__radd__',\n",
       " '__reduce__',\n",
       " '__reduce_ex__',\n",
       " '__repr__',\n",
       " '__rfloordiv__',\n",
       " '__rmod__',\n",
       " '__rmul__',\n",
       " '__rpow__',\n",
       " '__rsub__',\n",
       " '__rtruediv__',\n",
       " '__rxor__',\n",
       " '__setattr__',\n",
       " '__setstate__',\n",
       " '__sizeof__',\n",
       " '__slots__',\n",
       " '__str__',\n",
       " '__sub__',\n",
       " '__subclasshook__',\n",
       " '__truediv__',\n",
       " '__xor__',\n",
       " '_act_on_',\n",
       " '_acted_upon_',\n",
       " '_add_',\n",
       " '_add_parent',\n",
       " '_algebraic_',\n",
       " '_ascii_art_',\n",
       " '_assume_str',\n",
       " '_axiom_',\n",
       " '_axiom_init_',\n",
       " '_cache_key',\n",
       " '_cmp_',\n",
       " '_cmp_add',\n",
       " '_cmp_mul',\n",
       " '_coeff_repr',\n",
       " '_complex_double_',\n",
       " '_complex_mpfi_',\n",
       " '_complex_mpfr_field_',\n",
       " '_convert',\n",
       " '_dbgprint',\n",
       " '_dbgprinttree',\n",
       " '_derivative',\n",
       " '_div_',\n",
       " '_divide_if_possible',\n",
       " '_doccls',\n",
       " '_dummy_attribute',\n",
       " '_eval_self',\n",
       " '_evaluate_polynomial',\n",
       " '_factor_list',\n",
       " '_fast_callable_',\n",
       " '_fast_float_',\n",
       " '_fricas_',\n",
       " '_fricas_init_',\n",
       " '_gap_',\n",
       " '_gap_init_',\n",
       " '_giac_',\n",
       " '_giac_init_',\n",
       " '_gp_',\n",
       " '_gp_init_',\n",
       " '_im_gens_',\n",
       " '_integer_',\n",
       " '_interface_',\n",
       " '_interface_init_',\n",
       " '_interface_is_cached_',\n",
       " '_is_atomic',\n",
       " '_is_registered_constant_',\n",
       " '_kash_',\n",
       " '_kash_init_',\n",
       " '_latex_',\n",
       " '_latex_coeff_repr',\n",
       " '_libgap_',\n",
       " '_libgap_init_',\n",
       " '_lmul_',\n",
       " '_macaulay2_',\n",
       " '_macaulay2_init_',\n",
       " '_magma_init_',\n",
       " '_maple_',\n",
       " '_maple_init_',\n",
       " '_mathematica_',\n",
       " '_mathematica_init_',\n",
       " '_mathml_',\n",
       " '_maxima_',\n",
       " '_maxima_init_',\n",
       " '_maxima_init_assume_',\n",
       " '_maxima_lib_',\n",
       " '_maxima_lib_init_',\n",
       " '_mpfr_',\n",
       " '_mpmath_',\n",
       " '_mul_',\n",
       " '_mul_parent',\n",
       " '_neg_',\n",
       " '_octave_',\n",
       " '_octave_init_',\n",
       " '_pari_init_',\n",
       " '_plot_fast_callable',\n",
       " '_polymake_',\n",
       " '_polymake_init_',\n",
       " '_polynomial_',\n",
       " '_pow_',\n",
       " '_pow_int',\n",
       " '_pow_naive',\n",
       " '_r_init_',\n",
       " '_rational_',\n",
       " '_real_double_',\n",
       " '_real_mpfi_',\n",
       " '_reduction',\n",
       " '_repr_',\n",
       " '_richcmp_',\n",
       " '_rmul_',\n",
       " '_sage_',\n",
       " '_set_parent',\n",
       " '_singular_',\n",
       " '_singular_init_',\n",
       " '_sub_',\n",
       " '_subs_expr',\n",
       " '_sympy_',\n",
       " '_sympy_character_art',\n",
       " '_test_category',\n",
       " '_test_eq',\n",
       " '_test_new',\n",
       " '_test_nonzero_equal',\n",
       " '_test_not_implemented_methods',\n",
       " '_test_pickling',\n",
       " '_tester',\n",
       " '_unicode_art_',\n",
       " '_unpack_operands',\n",
       " 'abs',\n",
       " 'add',\n",
       " 'add_to_both_sides',\n",
       " 'additive_order',\n",
       " 'arccos',\n",
       " 'arccosh',\n",
       " 'arcsin',\n",
       " 'arcsinh',\n",
       " 'arctan',\n",
       " 'arctan2',\n",
       " 'arctanh',\n",
       " 'args',\n",
       " 'arguments',\n",
       " 'assume',\n",
       " 'base_extend',\n",
       " 'base_ring',\n",
       " 'binomial',\n",
       " 'canonicalize_radical',\n",
       " 'cartesian_product',\n",
       " 'category',\n",
       " 'coefficient',\n",
       " 'coefficients',\n",
       " 'collect',\n",
       " 'collect_common_factors',\n",
       " 'combine',\n",
       " 'conjugate',\n",
       " 'content',\n",
       " 'contradicts',\n",
       " 'convert',\n",
       " 'cos',\n",
       " 'cosh',\n",
       " 'csgn',\n",
       " 'decl_assume',\n",
       " 'decl_forget',\n",
       " 'default_variable',\n",
       " 'degree',\n",
       " 'denominator',\n",
       " 'derivative',\n",
       " 'diff',\n",
       " 'differentiate',\n",
       " 'distribute',\n",
       " 'divide_both_sides',\n",
       " 'divides',\n",
       " 'dump',\n",
       " 'dumps',\n",
       " 'exp',\n",
       " 'expand',\n",
       " 'expand_log',\n",
       " 'expand_rational',\n",
       " 'expand_sum',\n",
       " 'expand_trig',\n",
       " 'factor',\n",
       " 'factor_list',\n",
       " 'factorial',\n",
       " 'factorial_simplify',\n",
       " 'find',\n",
       " 'find_local_maximum',\n",
       " 'find_local_minimum',\n",
       " 'find_root',\n",
       " 'forget',\n",
       " 'fraction',\n",
       " 'free_variables',\n",
       " 'full_simplify',\n",
       " 'function',\n",
       " 'gamma',\n",
       " 'gamma_normalize',\n",
       " 'gcd',\n",
       " 'gosper_sum',\n",
       " 'gosper_term',\n",
       " 'gradient',\n",
       " 'has',\n",
       " 'has_wild',\n",
       " 'hessian',\n",
       " 'horner',\n",
       " 'hypergeometric_simplify',\n",
       " 'imag',\n",
       " 'imag_part',\n",
       " 'implicit_derivative',\n",
       " 'integral',\n",
       " 'integrate',\n",
       " 'inverse_laplace',\n",
       " 'inverse_mod',\n",
       " 'inverse_of_unit',\n",
       " 'is_algebraic',\n",
       " 'is_constant',\n",
       " 'is_exact',\n",
       " 'is_idempotent',\n",
       " 'is_infinity',\n",
       " 'is_integer',\n",
       " 'is_negative',\n",
       " 'is_negative_infinity',\n",
       " 'is_nilpotent',\n",
       " 'is_numeric',\n",
       " 'is_one',\n",
       " 'is_polynomial',\n",
       " 'is_positive',\n",
       " 'is_positive_infinity',\n",
       " 'is_prime',\n",
       " 'is_rational_expression',\n",
       " 'is_real',\n",
       " 'is_relational',\n",
       " 'is_square',\n",
       " 'is_symbol',\n",
       " 'is_terminating_series',\n",
       " 'is_trivial_zero',\n",
       " 'is_trivially_equal',\n",
       " 'is_unit',\n",
       " 'is_zero',\n",
       " 'iterator',\n",
       " 'laplace',\n",
       " 'laurent_polynomial',\n",
       " 'lcm',\n",
       " 'leading_coeff',\n",
       " 'leading_coefficient',\n",
       " 'left',\n",
       " 'left_hand_side',\n",
       " 'lhs',\n",
       " 'limit',\n",
       " 'list',\n",
       " 'log',\n",
       " 'log_expand',\n",
       " 'log_gamma',\n",
       " 'log_simplify',\n",
       " 'low_degree',\n",
       " 'match',\n",
       " 'maxima_methods',\n",
       " 'minpoly',\n",
       " 'mod',\n",
       " 'mul',\n",
       " 'multiplicative_order',\n",
       " 'multiply_both_sides',\n",
       " 'n',\n",
       " 'negation',\n",
       " 'nintegral',\n",
       " 'nintegrate',\n",
       " 'nops',\n",
       " 'norm',\n",
       " 'normalize',\n",
       " 'number_of_arguments',\n",
       " 'number_of_operands',\n",
       " 'numerator',\n",
       " 'numerator_denominator',\n",
       " 'numerical_approx',\n",
       " 'op',\n",
       " 'operands',\n",
       " 'operator',\n",
       " 'order',\n",
       " 'parent',\n",
       " 'partial_fraction',\n",
       " 'plot',\n",
       " 'poly',\n",
       " 'polynomial',\n",
       " 'power',\n",
       " 'power_series',\n",
       " 'powers',\n",
       " 'primitive_part',\n",
       " 'prod',\n",
       " 'pyobject',\n",
       " 'rational_expand',\n",
       " 'rational_simplify',\n",
       " 'real',\n",
       " 'real_part',\n",
       " 'rectform',\n",
       " 'reduce_trig',\n",
       " 'rename',\n",
       " 'reset_name',\n",
       " 'residue',\n",
       " 'resultant',\n",
       " 'rhs',\n",
       " 'right',\n",
       " 'right_hand_side',\n",
       " 'roots',\n",
       " 'round',\n",
       " 'save',\n",
       " 'series',\n",
       " 'show',\n",
       " 'simplify',\n",
       " 'simplify_factorial',\n",
       " 'simplify_full',\n",
       " 'simplify_hypergeometric',\n",
       " 'simplify_log',\n",
       " 'simplify_rational',\n",
       " 'simplify_real',\n",
       " 'simplify_rectform',\n",
       " 'simplify_trig',\n",
       " 'sin',\n",
       " 'sinh',\n",
       " 'solve',\n",
       " 'solve_diophantine',\n",
       " 'sqrt',\n",
       " 'step',\n",
       " 'subs',\n",
       " 'substitute',\n",
       " 'substitute_function',\n",
       " 'substitution_delayed',\n",
       " 'subtract_from_both_sides',\n",
       " 'sum',\n",
       " 'tan',\n",
       " 'tanh',\n",
       " 'taylor',\n",
       " 'test_relation',\n",
       " 'to_gamma',\n",
       " 'trailing_coeff',\n",
       " 'trailing_coefficient',\n",
       " 'trig_expand',\n",
       " 'trig_reduce',\n",
       " 'trig_simplify',\n",
       " 'truncate',\n",
       " 'unhold',\n",
       " 'unit',\n",
       " 'unit_content_primitive',\n",
       " 'variables',\n",
       " 'zeta']"
      ]
     },
     "execution_count": 24,
     "metadata": {},
     "output_type": "execute_result"
    }
   ],
   "source": [
    "dir(expr)"
   ]
  },
  {
   "cell_type": "code",
   "execution_count": 35,
   "metadata": {},
   "outputs": [
    {
     "data": {
      "text/plain": [
       "[0, 1]"
      ]
     },
     "execution_count": 35,
     "metadata": {},
     "output_type": "execute_result"
    }
   ],
   "source": [
    "def my_local_monomials(op, point):\n",
    "    dop = DifferentialOperator(op)\n",
    "    struct = Point(point, dop).local_basis_structure()\n",
    "    x = SR(dop.base_ring().gen()) - point\n",
    "    return [(\n",
    "                1 / sol.log_power.factorial(),\n",
    "                simplify_exponent(sol.valuation),\n",
    "                sol.log_power)\n",
    "            for sol in struct]\n",
    "\n",
    "first_coeffs = [1, 3]\n",
    "proj = [0] * op.order()\n",
    "for i, (alpha, n, k) in enumerate(my_local_monomials(op, 0)):\n",
    "    if k == 0 and n >= 0:\n",
    "        proj[i] = first_coeffs[n]\n",
    "proj"
   ]
  },
  {
   "cell_type": "code",
   "execution_count": 28,
   "metadata": {},
   "outputs": [
    {
     "data": {
      "text/plain": [
       "[(1, -1, 0), (1, 0, 0)]"
      ]
     },
     "execution_count": 28,
     "metadata": {},
     "output_type": "execute_result"
    }
   ],
   "source": [
    "my_local_monomials(op, 0)"
   ]
  },
  {
   "cell_type": "code",
   "execution_count": 29,
   "metadata": {},
   "outputs": [
    {
     "data": {
      "text/plain": [
       "[(1, -1/2, 0), (1, 0, 0)]"
      ]
     },
     "execution_count": 29,
     "metadata": {},
     "output_type": "execute_result"
    }
   ],
   "source": [
    "my_local_monomials(op, 1/4)"
   ]
  },
  {
   "cell_type": "code",
   "execution_count": 30,
   "metadata": {},
   "outputs": [
    {
     "data": {
      "text/plain": [
       "[(1, -2, 0), (1, -1, 0), (1, 0, 0)]"
      ]
     },
     "execution_count": 30,
     "metadata": {},
     "output_type": "execute_result"
    }
   ],
   "source": [
    "my_local_monomials(op2, 0)"
   ]
  },
  {
   "cell_type": "code",
   "execution_count": 31,
   "metadata": {},
   "outputs": [
    {
     "data": {
      "text/plain": [
       "[(1, 0, 1), (1, 0, 0), (1, 1, 0)]"
      ]
     },
     "execution_count": 31,
     "metadata": {},
     "output_type": "execute_result"
    }
   ],
   "source": [
    "my_local_monomials(op2, 1/4)"
   ]
  },
  {
   "cell_type": "code",
   "execution_count": 32,
   "metadata": {},
   "outputs": [
    {
     "data": {
      "text/plain": [
       "[(1, 0, 0), (1, 1, 0), (1, 2, 0)]"
      ]
     },
     "execution_count": 32,
     "metadata": {},
     "output_type": "execute_result"
    }
   ],
   "source": [
    "my_local_monomials(op2, -1/4)"
   ]
  },
  {
   "cell_type": "code",
   "execution_count": null,
   "metadata": {},
   "outputs": [],
   "source": []
  }
 ],
 "metadata": {
  "kernelspec": {
   "display_name": "SageMath 9.1",
   "language": "sage",
   "name": "sagemath"
  },
  "language_info": {
   "codemirror_mode": {
    "name": "ipython",
    "version": 3
   },
   "file_extension": ".py",
   "mimetype": "text/x-python",
   "name": "python",
   "nbconvert_exporter": "python",
   "pygments_lexer": "ipython3",
   "version": "3.7.3"
  }
 },
 "nbformat": 4,
 "nbformat_minor": 2
}
