{
 "cells": [
  {
   "cell_type": "markdown",
   "metadata": {},
   "source": [
    "On souhaite étudier les marches aléatoires à pas dans $\\{(-1, 0), (0, -1), (1, 0), (0, 1)\\}$ qui restent dans le demi-plan supérieur."
   ]
  },
  {
   "cell_type": "code",
   "execution_count": 1,
   "metadata": {},
   "outputs": [],
   "source": [
    "@CachedFunction\n",
    "def count_walks_xy(x, y, n):\n",
    "    '''\n",
    "    Count walks that stay in the upper-half plane.\n",
    "    '''\n",
    "    if y < 0:\n",
    "        return 0\n",
    "    if n == 0 and x == 0 and y == 0:\n",
    "        return 1\n",
    "    if n == 0:\n",
    "        return 0\n",
    "    return count_walks_xy(x - 1, y, n - 1) + \\\n",
    "           count_walks_xy(x + 1, y, n - 1) + \\\n",
    "           count_walks_xy(x, y - 1, n - 1) + \\\n",
    "           count_walks_xy(x, y + 1, n - 1)\n",
    "\n",
    "\n",
    "def count_walks(n):\n",
    "    return sum([count_walks_xy(x, y, n)\n",
    "                for x in range(-n, n + 1)\n",
    "                for y in range(n + 1)])"
   ]
  },
  {
   "cell_type": "code",
   "execution_count": 2,
   "metadata": {},
   "outputs": [
    {
     "name": "stdout",
     "output_type": "stream",
     "text": [
      "[1, 3, 10, 35, 126, 462, 1716, 6435, 24310, 92378, 352716]\n"
     ]
    }
   ],
   "source": [
    "LST = [count_walks(k) for k in range(11)]\n",
    "print(LST)"
   ]
  },
  {
   "cell_type": "code",
   "execution_count": 3,
   "metadata": {},
   "outputs": [
    {
     "name": "stdout",
     "output_type": "stream",
     "text": [
      "A001700: a(n) = binomial(2n+1, n+1): number of ways to put n+1 indistinguishable balls into n+1 distinguishable boxes = number of (n+1)-st degree monomials in n+1 variables = number of monotone maps from 1..n+1 to 1..n+1.\n",
      " 0: To show for example that C(2n+1, n+1) is the number of monotone maps from 1..n + 1 to 1..n + 1, notice that we can describe such a map by a nondecreasing sequence of length n + 1 with entries from 1 to n + 1. The number k of increases in this sequence is anywhere from 0 to n. We can specify these increases by throwing k balls into n+1 boxes, so the total is Sum_{k = 0..n} C((n+1) + k - 1, k) = C(2n+1, n+1).\n",
      " 1: Also number of ordered partitions (or compositions) of n + 1 into n + 1 parts. E.g., a(2) = 10: 003 030 300 012 021 102 120 210 201 111. - Mambetov Bektur (bektur1987(AT)mail.ru), Apr 17 2003\n",
      " 2: Also number of walks of length n on square lattice, starting at origin, staying in first and second quadrants. - _David W. Wilson_, May 05 2001. (E.g., for n = 2 there are 10 walks, all starting at 0, 0: 0, 1 -> 0, 0; 0, 1 -> 1, 1; 0, 1 -> 0, 2; 1, 0 -> 0, 0; 1, 0 -> 1, 1; 1, 0 -> 2, 0; 1, 0 -> 1, -1; -1, 0 -> 0, 0; -1, 0 -> -1, 1; -1, 0-> -2, 0.)\n",
      " 3: Also total number of leaves in all ordered trees with n + 1 edges.\n",
      " 4: Also number of digitally balanced numbers [A031443] from 2^(2n+1) to 2^(2n+2). - _Naohiro Nomoto_, Apr 07 2001\n",
      " 5: Also number of ordered trees with 2n + 2 edges having root of even degree and nonroot nodes of outdegree 0 or 2. - _Emeric Deutsch_, Aug 02 2002\n",
      " 6: Also number of paths of length 2*d(G) connecting two neighboring nodes in optimal chordal graph of degree 4, G(2*d(G)^2 + 2*d(G) + 1, 2d(G) + 1), where d(G) = diameter of graph G. - S. Bujnowski (slawb(AT)atr.bydgoszcz.pl), Feb 11 2002\n",
      " 7: Define an array by m(1, j) = 1, m(i, 1) = i, m(i, j) = m(i, j-1) + m(i-1, j); then a(n) = m(n, n). - _Benoit Cloitre_, May 07 2002\n",
      " 8: Also the numerator of the constant term in the expansion of cos^2n(x) or sin^2n(x) when the denominator is 2^(2n-1). - _Robert G. Wilson v_\n",
      " 9: Consider the expansion of cos^n(x) as a linear combination of cosines of multiple angles. If n is odd, then the expansion is a combination of a*cos((2k-1)*x)/2^(n-1) for all 2k - 1 <= n. If n is even, then the expansion is a combination of a*cos(2k*x)/2^(n-1) terms plus a constant. \"The constant term, [a(n)/2^(2n-1)], is due to the fact that [cos^2n(x)] is never negative, i.e., electrical engineers would say the average or 'dc value' of [cos^2n(x)] is [a(n)/2^(2n-1)]. The dc value of [cos^(2n-1)(x)] on the other hand, is zero because it is symmetrical about the horizontal axis, i.e., it is negative and positive equally.\" Nahin[62] - _Robert G. Wilson v_, Aug 01 2002\n",
      "10: Also number of times a fixed Dyck word of length 2k occurs in all Dyck words of length 2n + 2k. Example: if the fixed Dyck word is xyxy (k = 2), then it occurs a(1) = 3 times in the 5 Dyck words of length 6 (n = 1): (xy[xy)xy], xyxxyy, xxyyxy, x(xyxy)y, xxxyyy (placed between parentheses). - _Emeric Deutsch_, Jan 02 2003\n",
      "11: a(n+1) is the determinant of the n X n matrix m(i, j) = binomial(2n-i, j). - _Benoit Cloitre_, Aug 26 2003\n",
      "12: a(n-1) = (2n)!/(2*n!*n!), formula in [Davenport] used by Gauss for the special case prime p = 4*n + 1: x = a(n-1) mod p and y = x*(2n)! mod p are solutions of p = x^2 + y^2. - _Frank Ellermann_. Example: For prime 29 = 4*7 + 1 use a(7-1) = 1716 = (2*7)!/(2*7!*7!), 5 = 1716 mod 29 and 2 = 5*(2*7)! mod 29, then 29 = 5*5 + 2*2.\n",
      "13: a(n) = Sum_{k = 0..n+1} binomial(2n+2, k)*cos((n - k + 1)*Pi). - _Paul Barry_, Nov 02 2004\n",
      "14: The number of compositions of 2n, say c_1 + c_2 + ... + c_k = 2n, satisfy that Sum_(i = 1..j)c_i < 2j for all j = 1..k, or equivalently, the number of subsets, say S, of [2n-1] = {1, 2, ..., 2n-1} with at least n elements such that if 2k is in S, then there must be at least k elements in S smaller than 2k. E.g., a(2) = 3 because we can write 4 = 1 + 1 + 1 + 1 = 1 + 1 + 2 = 1 + 2 + 1. - Ricky X. F. Chen (ricky_chen(AT)mail.nankai.edu.cn), Jul 30 2006\n",
      "15: a(n) = A122366(n,n). - _Reinhard Zumkeller_, Aug 30 2006\n",
      "16: The number of walks of length 2n + 1 on an infinite linear lattice that begin at the origin and end at node (1). Also the number of paths on a square lattice from the origin to (n+1,n) that use steps (1,0) and (0,1). Also number of binary numbers of length 2n + 1 with n + 1 ones and n zeros. - Stefan Hollos (stefan(AT)exstrom.com), Dec 10 2007\n",
      "17: If Y is a 3-subset of an 2n-set X then, for n >= 3, a(n-1) is the number of n-subsets of X having at least two elements in common with Y. - _Milan Janjic_, Dec 16 2007\n",
      "18: Also the number of rankings (preferential arrangements) of n unlabeled elements onto n levels when empty levels are allowed. - _Thomas Wieder_, May 24 2008\n",
      "19: Also the Catalan transform of A000225 shifted one index, i.e., dropping A000225(0). - _R. J. Mathar_, Nov 11 2008\n",
      "20: With offset 1. The number of solutions in nonnegative integers to X1 + X2 + ... + Xn = n. The number of terms in the expansion of (X1 + X2 + ... + Xn)^n. The coefficient of x^n in the expansion of (1 + x + x^2 + ...)^n. The number of distinct image sets of all functions taking [n] into [n]. - _Geoffrey Critzer_, Feb 22 2009\n",
      "21: The Hankel transform of the aerated sequence 1, 0, 3, 0, 10, 0, ... is 1, 3, 3, 5, 5, 7, 7, ... (A109613(n+1)). - _Paul Barry_, Apr 21 2009\n",
      "22: Also the number of distinct network topologies for a network of n items with 1 to n - 1 unidirectional connections to other objects in the network. - Anthony Bachler, May 05 2010\n",
      "23: Equals INVERT transform of the Catalan numbers starting with offset 1. E.g.: a(3) = 35 = (1, 2, 5) dot (10, 3, 1) + 14 = 21 + 14 = 35. - _Gary W. Adamson_, May 15 2009\n",
      "24: a(n) = 2*A000984(n) - A000108(n), that is, a(n) = 2*c(2n,n) - n-th Catalan number. - _Joseph Abate_, Jun 11 2010\n",
      "25: The integral of 1/(1+x^2)^(n+1) is given by a(n)/2^(2n-1) * (x/(1+x^2)^n*P(x) + arctan(x)), where P(x) is a monic polynomial of degree 2n-2 with rational coefficients. - _Christiaan van de Woestijne_, Jan 25 2011\n",
      "26: a(n) is the number of Schroder paths of semilength n in which the (2,0)-steps at level 0 come in 2 colors and there are no (2,0)-steps at a higher level. Example: a(2) = 10 because, denoting U = (1,1), H = (1,0), and D = (1,-1), we have 2^2 = 4 paths of shape HH, 2 paths of shape HUD, 2 paths of shape UDH, and 1 path of each of the shapes UDUD and UUDD. - _Emeric Deutsch_, May 02 2011\n",
      "27: a(n) is the number of Motzkin paths of length n in which the (1,0)-steps at level 0 come in 3 colors and those at a higher level come in 2 colors. Example: a(3)=35 because, denoting  U=(1,1), H=(1,0), and D=(1,-1), we have 3^3 = 27 paths of shape HHH, 3 paths of shape HUD, 3 paths of shape UDH, and 2 paths of shape UHD. - _Emeric Deutsch_, May 02 2011\n",
      "28: Also number of digitally balanced numbers having length 2*(n+1) in binary representation: a(n) = #{m: A070939(A031443(m)) = 2*(n+1)}. - _Reinhard Zumkeller_, Jun 08 2011\n",
      "29: a(n) equals 2^(2n+3) times the coefficient of Pi in 2F1(1/2, n+2, 3/2, -1). - _John M. Campbell_, Jul 17 2011\n",
      "30: For positive n, a(n) equals 4^(n+2) times the coefficient of Pi^2 in Integral_{x = 0..Pi/2} x sin^(2n+2)x. - _John M. Campbell_, Jul 19 2011\n",
      "31: a(n-1) = C(2n, n)/2 is the number of ways to assign 2n people into 2 (unlabeled) groups of size n. - _Dennis P. Walsh_, Nov 09 2011\n",
      "32: Equals row sums of triangle A205945. - _Gary W. Adamson_, Feb 01 2012\n",
      "33: a(n-1) gives the number of n-regular sequences defined by Erdős and Gallai in 1960 in connection with the degree sequences of simple graphs. - _Matuszka Tamás_, Mar 06 2013\n",
      "34: a(n) is the sum of falling diagonals of squares in the comment in A085812 (equivalent to the Cloitre formula of Aug 2002). - _John Molokach_, Sep 26 2013\n",
      "35: For n > 0: largest terms of Zigzag matrices as defined in A088961. - _Reinhard Zumkeller_, Oct 25 2013\n",
      "36: Also the number of different possible win/loss round sequences (from the perspective of the eventual winner) in a \"best of 2n + 1\" two-player game. For example, a(2) = 10 means there are 10 different win/loss sequences in a \"best of 5\" game (like a tennis match in which the first player to win 3 sets, out of a maximum of 5, wins the match); the 10 sequences are WWW, WWLW, WWLLW, WLWW, WLWLW, WLLWW, LWWW, LWWLW, LWLWW, LLWWW. See also A072600. - _Philippe Beaudoin_, May 14 2014; corrected by _Jon E. Schoenfield_, Nov 23 2014\n",
      "37: When adding 1 to the beginning of the sequence: Convolving a(n)/2^n with itself equals 2^(n+1).  For example, when n = 4: convolving {1, 1/1, 3/2, 10/4, 35/8, 126/16} with itself is 32 = 2^5. - _Bob Selcoe_, Jul 16 2014\n",
      "38: From _Tom Copeland_, Nov 09 2014: (Start)\n",
      "39: The shifted array belongs to a family of arrays associated to the Catalan A000108 (t = 1), and Riordan, or Motzkin sums A005043 (t = 0), with the o.g.f. [1 - sqrt(1 - 4x/(1 + (1 - t)x))]/2 and inverse x(1 - x)/[1 + (t - 1)x(1 - x)]. See A091867 for more info on this family. Here is t = -3 (mod signs in the results).\n",
      "40: Let C(x) = [1 - sqrt(1-4x)]/2, an o.g.f. for the Catalan numbers A000108, with inverse Cinv(x) = x*(1-x) and P(x,t) = x/(1 + t*x) with inverse P(x, -t).\n",
      "41: O.g.f: G(x) = [-1 + sqrt(1 + 4*x/(1-4x))]/2 = -C[P(-x, 4)].\n",
      "42: Inverse o.g.f: Ginv(x) = x*(1+x)/[1 + 4x*(1+x)] = -P(Cinv(-x),-4) (shifted signed A001792). A088218 = 1+ G(x).\n",
      "43: Equals A001813/2 omitting the leading 1 there. (End)\n",
      "44: For n > 1: a(n-1) = A166454(2*n,n), central terms in A166454. - _Reinhard Zumkeller_, Mar 04 2015\n",
      "45: Placing n distinguishable balls into n indistinguishable boxes gives A000110(n) (the number of set partitions). - _N. J. A. Sloane_, Jun 19 2015\n",
      "46: The sequence is the INVERTi transform of A049027: (1, 4, 17, 74, 326, ...). - _Gary W. Adamson_, Jun 23 2015\n",
      "47: a(n) is the number of compositions of 2*n + 2 such that the sum of the elements at odd positions is equal to the sum of the elements at even positions. a(2) = 10 because there are 10 such compositions of 6: (3, 3), (1, 3, 2), (2, 3, 1), (1, 1, 2, 2), (1, 2, 2, 1), (2, 2, 1, 1), (2, 1, 1, 2), (1, 2, 1, 1, 1), (1, 1, 1, 2, 1), (1, 1, 1, 1, 1, 1). - _Ran Pan_, Oct 08 2015\n",
      "48: a(n-1) is also the Schur function of the partition (n) of n evaluated at x_1 = x_2 = ... = x_n = 1, i.e., the number of semistandard Young tableaux of shape (n) (weakly increasing rows with n boxes with numbers from {1, 2, ..., n}). - _Wolfdieter Lang_, Oct 11 2015\n",
      "49: Also the number of ordered (rooted planar) forests with a total of n+1 edges and no trivial trees. - _Nachum Dershowitz_, Mar 30 2016\n",
      "50: a(n) is the number of sets (i1,...in) of length n so that n >= i1 >= i2 >= ...>= in >= 1. For instance, n=3 as there are only 10 such sets (3,3,3) (3,3,2) (3,3,1) (3,2,2) (3,2,1) (3,1,1) (2,2,2) (2,2,1) (2,1,1) (1,1,1,) 3,2,1 is each used 10 times respectively. - _Anton Zakharov_, Jul 04 2016\n",
      "51: The repeated middle term in the odd rows of Pascal's triangle, or half the central binomial coefficient in the even rows of Pascal's triangle, n >= 2. - _Enrique Navarrete_, Feb 12 2018\n",
      "52: a(n) is the number of walks of length 2n+1 from the origin with steps (1,1) and (1,-1) that stay on or above the x-axis. Equivalently, a(n) is the number of walks of length 2n+1 from the origin with steps (1,0) and (0,1) that stay in the first octant. - _Alexander Burstein_, Dec 24 2019\n",
      "53: Total number of nodes summed over all Dyck paths of semilength n. - _Alois P. Heinz_, Mar 08 2020\n"
     ]
    }
   ],
   "source": [
    "OE = oeis(LST)[0]\n",
    "print(OE)\n",
    "print(OE.comments())"
   ]
  },
  {
   "cell_type": "markdown",
   "metadata": {},
   "source": [
    "D'aprè le point 2, notre fonction semble bien compter correctement les marches aléatoires qui restent dans le demi-plan supérieur."
   ]
  },
  {
   "cell_type": "code",
   "execution_count": 4,
   "metadata": {},
   "outputs": [],
   "source": [
    "from ore_algebra import *"
   ]
  },
  {
   "cell_type": "code",
   "execution_count": 5,
   "metadata": {},
   "outputs": [],
   "source": [
    "# Create the shift ore_algebra with rational coefficients\n",
    "Ind.<n> = PolynomialRing(QQ)\n",
    "Shift.<Sn> = OreAlgebra(Ind)"
   ]
  },
  {
   "cell_type": "code",
   "execution_count": 6,
   "metadata": {},
   "outputs": [
    {
     "name": "stdout",
     "output_type": "stream",
     "text": [
      "(-n - 2)*Sn + 4*n + 6\n"
     ]
    }
   ],
   "source": [
    "# Guess a recurrence satisfied by the sequence (need about 30 terms to find the recurrence)\n",
    "LST = [count_walks(k) for k in range(50)]\n",
    "rec = guess(LST, Shift)\n",
    "print(rec)"
   ]
  },
  {
   "cell_type": "markdown",
   "metadata": {},
   "source": [
    "Sage pense que $w_n$ vérifie la relation :\n",
    "$w_{n + 1} = \\frac{4n + 6}{n + 2}w_n$, qui semble effectivement vérifiée sur les premiers exemples qu'on a calculés explicitement."
   ]
  },
  {
   "cell_type": "code",
   "execution_count": 7,
   "metadata": {},
   "outputs": [
    {
     "name": "stdout",
     "output_type": "stream",
     "text": [
      "w_300 : 269767020397716795273087713173027318168563459185931167559818600643425130881101115927349629897551350036620178780567668394270379385207482081757077623442427593092384110773141053129456\n"
     ]
    }
   ],
   "source": [
    "LongLST = rec.to_list(LST,301)\n",
    "print('w_300 :', LongLST[300])"
   ]
  },
  {
   "cell_type": "code",
   "execution_count": 8,
   "metadata": {},
   "outputs": [
    {
     "name": "stdout",
     "output_type": "stream",
     "text": [
      "prob of staying in the upper half plane for 300 steps : 0.0650116901406073\n"
     ]
    }
   ],
   "source": [
    "print('prob of staying in the upper half plane for 300 steps :', (LongLST[300]/4^(300)).n())"
   ]
  },
  {
   "cell_type": "code",
   "execution_count": 9,
   "metadata": {},
   "outputs": [
    {
     "name": "stdout",
     "output_type": "stream",
     "text": [
      "Une base de l'espace des solutions de la rec\n",
      "[4^n*n^(-1/2)*(1 - 5/8*n^(-1) + O(n^(-2)))]\n"
     ]
    }
   ],
   "source": [
    "# Compute the first two asymptotic terms of a basis of the recurrence\n",
    "print('Une base de l\\'espace des solutions de la rec')\n",
    "print(rec.generalized_series_solutions(2))"
   ]
  },
  {
   "cell_type": "code",
   "execution_count": 10,
   "metadata": {},
   "outputs": [
    {
     "name": "stdout",
     "output_type": "stream",
     "text": [
      "Une etude heuristique pour approximer lambda_1\n",
      "1.12139052285748\n",
      "1.12830864983222\n"
     ]
    }
   ],
   "source": [
    "print('Une etude heuristique pour approximer lambda_1')\n",
    "LongLST = rec.to_list(LST,10001)\n",
    "print((LongLST[100]/(int(4^100/10))).n())\n",
    "print((LongLST[10000]/(int(4^10000/100))).n())"
   ]
  },
  {
   "cell_type": "markdown",
   "metadata": {},
   "source": [
    "##### La partie qui me concerne commence vraiment maintenant"
   ]
  },
  {
   "cell_type": "code",
   "execution_count": 11,
   "metadata": {},
   "outputs": [],
   "source": [
    "# Create the differential algebra to encode linear differential equation\n",
    "Pols.<z> = PolynomialRing(QQ)\n",
    "Diff.<Dz> = OreAlgebra(Pols)"
   ]
  },
  {
   "cell_type": "code",
   "execution_count": 12,
   "metadata": {},
   "outputs": [
    {
     "name": "stdout",
     "output_type": "stream",
     "text": [
      "(4*z^2 - z)*Dz^2 + (14*z - 2)*Dz + 6\n"
     ]
    }
   ],
   "source": [
    "# Guess an annihilating linear differential equation for generating function\n",
    "diffWalk = guess(LST,Diff)\n",
    "print(diffWalk)"
   ]
  },
  {
   "cell_type": "code",
   "execution_count": 13,
   "metadata": {
    "scrolled": false
   },
   "outputs": [
    {
     "name": "stdout",
     "output_type": "stream",
     "text": [
      "(-n^2 - 3*n - 2)*Sn + 4*n^2 + 10*n + 6\n"
     ]
    }
   ],
   "source": [
    "# Converting from the differential equation to a recurrence \n",
    "# gives rec (up to a left multiple)\n",
    "print(Diff(diffWalk).to_S(Shift))"
   ]
  },
  {
   "cell_type": "markdown",
   "metadata": {},
   "source": [
    "C'est $(n + 1) * rec$"
   ]
  },
  {
   "cell_type": "markdown",
   "metadata": {},
   "source": [
    "La théorie implique que toute singularité d'une solution de `diffWalk` doit être solution de $4z^2 - z$, autrement dit est en $0$ ou $\\frac{1}{4}$.\n",
    "Comme $w_n \\leq 4^n$ pour tout $n$, on sait que la série est convergente au voisinage de l'origine. La seule singularité possible (si la série en a une) est donc en $\\frac{1}{4}$."
   ]
  },
  {
   "cell_type": "code",
   "execution_count": 14,
   "metadata": {},
   "outputs": [
    {
     "data": {
      "text/plain": [
       "[z^(-1), 1 + 3*z + 10*z^2]"
      ]
     },
     "execution_count": 14,
     "metadata": {},
     "output_type": "execute_result"
    }
   ],
   "source": [
    "diffWalk.local_basis_expansions(0, order = 4)"
   ]
  },
  {
   "cell_type": "markdown",
   "metadata": {},
   "source": [
    "On nomme $A_1 (z) = z^{-1}$ et $A_2 (z) = 1 + 3z + 10z^2 + \\dots$.\n",
    "\n",
    "Comme $W$ est convergente au voisinage de 0, on a en fait $W = A_2$."
   ]
  },
  {
   "cell_type": "code",
   "execution_count": 15,
   "metadata": {},
   "outputs": [
    {
     "data": {
      "text/plain": [
       "[(z - 1/4)^(-1/2) - 4*(z - 1/4)^(1/2) + 16*(z - 1/4)^(3/2) - 64*(z - 1/4)^(5/2),\n",
       " 1 - 4*(z - 1/4) + 16*(z - 1/4)^2 - 64*(z - 1/4)^3]"
      ]
     },
     "execution_count": 15,
     "metadata": {},
     "output_type": "execute_result"
    }
   ],
   "source": [
    "diffWalk.local_basis_expansions(1/4, order = 4)"
   ]
  },
  {
   "cell_type": "markdown",
   "metadata": {},
   "source": [
    "On pose\n",
    "\n",
    "$B_1 (z) = {\\left(z - \\frac{1}{4}\\right)}^{- 1 / 2} - 4 {\\left(z - \\frac{1}{4}\\right)}^{1 / 2} + \\dots$\n",
    "\n",
    "$B_2 (z) = 1 - 4 (z - \\frac{1}{4}) + \\dots$.\n",
    "\n",
    "Il faut trouver la matrice de passage de $(A)$ vers $(B)$."
   ]
  },
  {
   "cell_type": "code",
   "execution_count": 16,
   "metadata": {},
   "outputs": [
    {
     "name": "stdout",
     "output_type": "stream",
     "text": [
      "[                [+/- 1.54e-22]*I [1.0000000000000000 +/- 4e-22]*I]\n",
      "[  [4.0000000000000000 +/- 1e-21]  [-2.0000000000000000 +/- 3e-21]]\n",
      "([1.0000000000000000 +/- 6.94e-18]*I, [-2.0000000000000000 +/- 1.39e-17])\n"
     ]
    }
   ],
   "source": [
    "# Represent W in terms of the A_j basis\n",
    "ini = [0, 1]\n",
    "\n",
    "# Find numeric coefficients of W in the B_j basis\n",
    "trans_mat = diffWalk.numerical_transition_matrix([0, 1/4])\n",
    "bas = trans_mat * vector(ini)\n",
    "print(trans_mat)\n",
    "print(bas)"
   ]
  },
  {
   "cell_type": "markdown",
   "metadata": {},
   "source": [
    "On nomme $\\rho_1$ et $\\rho_2$ ces constantes. Les bornes sur l'approximation permettent de déduire que $\\rho_1 \\neq 0$ (et suggèrent fortement que $\\rho_1 = i$ et $\\rho_2 = -2$).\n",
    "\n",
    "En particulier, $\\frac{1}{4}$ est bien la singularité dominante de $W$."
   ]
  },
  {
   "cell_type": "markdown",
   "metadata": {},
   "source": [
    "$W(z) = \\rho_1 B_1 + \\rho_2 B_2$\n",
    "\n",
    "Or en $0$,\n",
    "$\n",
    "[z^n]B_1 (z)\n",
    "\\sim [z^n]{\\left(z - \\frac{1}{4}\\right)}^{- 1 / 2}\n",
    "= [z^n] 2i {\\left(1 - 4z\\right)}^{- 1 / 2}\n",
    "= [z^n] 2i \\left( 1 + 2z + 6z^2 + \\dots + \\right)\n",
    "$\n",
    "\n",
    "Donc $w_n \\sim 2 {2n \\choose n} \\sim \\frac{2}{\\sqrt{\\pi}}\\frac{4^n}{\\sqrt{n}}$"
   ]
  },
  {
   "cell_type": "code",
   "execution_count": 17,
   "metadata": {},
   "outputs": [
    {
     "name": "stdout",
     "output_type": "stream",
     "text": [
      "1.0607909645261389\n",
      "1.0124288589669703\n",
      "1.0062321235070055\n",
      "1.0031205193768193\n",
      "1.0012492819913577\n"
     ]
    }
   ],
   "source": [
    "from math import sqrt, pi\n",
    "\n",
    "\n",
    "def f(n):\n",
    "    return 2 / sqrt(pi) * (4 ** n / sqrt(n))\n",
    "\n",
    "print(f(10) / LongLST[10])\n",
    "print(f(50) / LongLST[50])\n",
    "print(f(100) / LongLST[100])\n",
    "print(f(200) / LongLST[200])\n",
    "print(f(500) / LongLST[500])"
   ]
  },
  {
   "cell_type": "markdown",
   "metadata": {},
   "source": [
    "Il semble qu'on a bien déterminé le premier terme du développement asymptotique de $w_n$."
   ]
  }
 ],
 "metadata": {
  "kernelspec": {
   "display_name": "SageMath 9.1",
   "language": "sage",
   "name": "sagemath"
  },
  "language_info": {
   "codemirror_mode": {
    "name": "ipython",
    "version": 3
   },
   "file_extension": ".py",
   "mimetype": "text/x-python",
   "name": "python",
   "nbconvert_exporter": "python",
   "pygments_lexer": "ipython3",
   "version": "3.7.3"
  }
 },
 "nbformat": 4,
 "nbformat_minor": 2
}
